{
 "cells": [
  {
   "cell_type": "markdown",
   "metadata": {},
   "source": [
    "## Python Basics Revision -"
   ]
  },
  {
   "cell_type": "code",
   "execution_count": 1,
   "metadata": {},
   "outputs": [
    {
     "name": "stdout",
     "output_type": "stream",
     "text": [
      "hello World\n"
     ]
    }
   ],
   "source": [
    "print(\"hello World\")"
   ]
  },
  {
   "cell_type": "code",
   "execution_count": 5,
   "metadata": {},
   "outputs": [
    {
     "name": "stdout",
     "output_type": "stream",
     "text": [
      "No variables match your requested type.\n"
     ]
    }
   ],
   "source": [
    "%whos  ## Tells all the variables that are present inside the memory rn."
   ]
  },
  {
   "cell_type": "code",
   "execution_count": 6,
   "metadata": {},
   "outputs": [
    {
     "name": "stdout",
     "output_type": "stream",
     "text": [
      "<class 'int'>\n"
     ]
    }
   ],
   "source": [
    "print(type(x))"
   ]
  },
  {
   "cell_type": "markdown",
   "metadata": {},
   "source": [
    "### Some useful functions - "
   ]
  },
  {
   "cell_type": "code",
   "execution_count": 11,
   "metadata": {},
   "outputs": [
    {
     "name": "stdout",
     "output_type": "stream",
     "text": [
      "6\n",
      "4\n",
      "8.2545\n"
     ]
    }
   ],
   "source": [
    "#Round() function\n",
    "#Rounds to the nearest integer.\n",
    "\n",
    "print(round(5.6214))\n",
    "print(round(4.41511))\n",
    "print(round(8.25448554, 4))  #Round till this place of decimal"
   ]
  },
  {
   "cell_type": "code",
   "execution_count": 14,
   "metadata": {},
   "outputs": [
    {
     "name": "stdout",
     "output_type": "stream",
     "text": [
      "(5, 2)\n",
      "14\n"
     ]
    }
   ],
   "source": [
    "#divmod(x, y)\n",
    "#outputs the quotient and the remainder in a tuple\n",
    "\n",
    "print(divmod(27, 5))\n",
    "print(divmod(57, 4)[0])  #Quotient only"
   ]
  },
  {
   "cell_type": "code",
   "execution_count": 15,
   "metadata": {},
   "outputs": [
    {
     "name": "stdout",
     "output_type": "stream",
     "text": [
      "True\n"
     ]
    }
   ],
   "source": [
    "#isinstance() \n",
    "#returns True id the first arguement is an instance of that class. \n",
    "#Multiple classes can also be checked at once.\n",
    "#isinstance(2+3j, (int, float,str, complex)) -> will retu4rn true if its any of these.\n",
    "\n",
    "print(isinstance(3.4, (int, float)))"
   ]
  },
  {
   "cell_type": "code",
   "execution_count": null,
   "metadata": {},
   "outputs": [],
   "source": [
    "#pow(x, y, z)\n",
    "#gives the value of (x^y)%z."
   ]
  },
  {
   "cell_type": "markdown",
   "metadata": {},
   "source": [
    "### To find the documentstiona nd how to use a specific function - "
   ]
  },
  {
   "cell_type": "code",
   "execution_count": 17,
   "metadata": {},
   "outputs": [
    {
     "name": "stdout",
     "output_type": "stream",
     "text": [
      "Help on built-in function pow in module builtins:\n",
      "\n",
      "pow(base, exp, mod=None)\n",
      "    Equivalent to base**exp with 2 arguments or base**exp % mod with 3 arguments\n",
      "    \n",
      "    Some types, such as ints, are able to use a more efficient algorithm when\n",
      "    invoked using the three argument form.\n",
      "\n"
     ]
    },
    {
     "name": "stdout",
     "output_type": "stream",
     "text": [
      "\u001b[1;31mSignature:\u001b[0m \u001b[0mpow\u001b[0m\u001b[1;33m(\u001b[0m\u001b[0mbase\u001b[0m\u001b[1;33m,\u001b[0m \u001b[0mexp\u001b[0m\u001b[1;33m,\u001b[0m \u001b[0mmod\u001b[0m\u001b[1;33m=\u001b[0m\u001b[1;32mNone\u001b[0m\u001b[1;33m)\u001b[0m\u001b[1;33m\u001b[0m\u001b[1;33m\u001b[0m\u001b[0m\n",
      "\u001b[1;31mDocstring:\u001b[0m\n",
      "Equivalent to base**exp with 2 arguments or base**exp % mod with 3 arguments\n",
      "\n",
      "Some types, such as ints, are able to use a more efficient algorithm when\n",
      "invoked using the three argument form.\n",
      "\u001b[1;31mType:\u001b[0m      builtin_function_or_method"
     ]
    }
   ],
   "source": [
    "# for example the pow() function.\n",
    "# if i want to know the parameters to pass to it - \n",
    "pow?\n",
    "#or\n",
    "help(pow)"
   ]
  },
  {
   "cell_type": "code",
   "execution_count": null,
   "metadata": {},
   "outputs": [],
   "source": [
    "if i%2 == 0:\n",
    "    print(i)\n",
    "else\n",
    "    pass   #Basically anoother form to write, do nothing.\n",
    "i += 1"
   ]
  },
  {
   "cell_type": "markdown",
   "metadata": {},
   "source": [
    "#### Functions with variable number of input arguements."
   ]
  },
  {
   "cell_type": "code",
   "execution_count": 21,
   "metadata": {},
   "outputs": [
    {
     "data": {
      "text/plain": [
       "25"
      ]
     },
     "execution_count": 21,
     "metadata": {},
     "output_type": "execute_result"
    }
   ],
   "source": [
    "def add(*args):\n",
    "    sum = 0\n",
    "    for i in range(len(args)):\n",
    "        sum+=args[i]\n",
    "    return sum\n",
    "\n",
    "add(3,4,5,6,7)"
   ]
  },
  {
   "cell_type": "markdown",
   "metadata": {},
   "source": [
    "Changing of array data due to equal signs used \n",
    "Content in L changes even though L2 = L which wouldnt have happened in C++ \n",
    "But here, they both point to the same memory place so this happens.\n",
    "\n",
    "But this does not happen when we do this to the function default value by passing a different list."
   ]
  },
  {
   "cell_type": "code",
   "execution_count": 1,
   "metadata": {},
   "outputs": [
    {
     "name": "stdout",
     "output_type": "stream",
     "text": [
      "[9, 2, 3]\n"
     ]
    }
   ],
   "source": [
    "L = [1, 2, 3]\n",
    "L2 = L\n",
    "L2[0] = 9\n",
    "print(L) "
   ]
  },
  {
   "cell_type": "markdown",
   "metadata": {},
   "source": [
    "### To import Functions from another python file - \n",
    "We use the sys module and append it then use the file with an alias and use any funtion present inside of it by writing file alias.function name"
   ]
  },
  {
   "cell_type": "code",
   "execution_count": null,
   "metadata": {},
   "outputs": [],
   "source": [
    "import sys  #Does the import wala thing \n",
    "sys.path.append('full file path')\n",
    "import FILE_NAME as MYfuncs \n",
    "MYfuncs.FUNCTION_NAME??   #Checking the implementaion of a random function from the appended file\n",
    "\n",
    "# OR\n",
    "\n",
    "from FILE_NAME import FUNCTION_NAME    #Now no need to use the . wala thing, use it as if it was a part of this file only "
   ]
  },
  {
   "cell_type": "markdown",
   "metadata": {},
   "source": [
    "## Strings"
   ]
  },
  {
   "cell_type": "markdown",
   "metadata": {},
   "source": [
    "Can declare with '  ' or \" \" both.\n",
    "+ means concatenate \n",
    "to concatenate other data types, convert by using str(variable) then add\n",
    "multi-line string = \"\"\" This is \n",
    "                        a multi\n",
    "                        line string. \"\"\"\n",
    "\n",
    "to get into lower case : a.lower()\n",
    "to get into upper case : a.upper()\n",
    "to replace one alphabet with another in the string : a.replace(\" \", \",\")  -- replaces the spaces with commas "
   ]
  },
  {
   "cell_type": "markdown",
   "metadata": {},
   "source": [
    "## Other Data Structures \n",
    "\n",
    "Tuple : Can be used to store multiple data types things in one tuple.Immutable\n",
    "Set : Unordered, multiple data types in one.\n",
    "Dictionary : holds everything as key value pairs.Unordered."
   ]
  },
  {
   "cell_type": "markdown",
   "metadata": {},
   "source": [
    "List, Set and Dictionary have The copy function, so we can modiify a copy of them without harming the original file."
   ]
  }
 ],
 "metadata": {
  "kernelspec": {
   "display_name": "Python 3",
   "language": "python",
   "name": "python3"
  },
  "language_info": {
   "codemirror_mode": {
    "name": "ipython",
    "version": 3
   },
   "file_extension": ".py",
   "mimetype": "text/x-python",
   "name": "python",
   "nbconvert_exporter": "python",
   "pygments_lexer": "ipython3",
   "version": "3.11.5"
  }
 },
 "nbformat": 4,
 "nbformat_minor": 2
}
